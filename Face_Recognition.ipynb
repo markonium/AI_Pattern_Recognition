{
  "cells": [
    {
      "cell_type": "markdown",
      "metadata": {
        "id": "view-in-github",
        "colab_type": "text"
      },
      "source": [
        "<a href=\"https://colab.research.google.com/github/markonium/AI_Pattern_Recognition/blob/master/Face_Recognition.ipynb\" target=\"_parent\"><img src=\"https://colab.research.google.com/assets/colab-badge.svg\" alt=\"Open In Colab\"/></a>"
      ]
    },
    {
      "cell_type": "code",
      "execution_count": null,
      "metadata": {
        "colab": {
          "base_uri": "https://localhost:8080/"
        },
        "id": "uzfYmkxEcx9D",
        "outputId": "6a90da38-d4d7-4d45-b9f7-ba04c5eb70b2"
      },
      "outputs": [
        {
          "output_type": "stream",
          "name": "stdout",
          "text": [
            "Drive already mounted at /content/drive; to attempt to forcibly remount, call drive.mount(\"/content/drive\", force_remount=True).\n",
            "(2,)\n",
            "1.8055555555555558\n"
          ]
        }
      ],
      "source": [
        "from numpy.linalg.linalg import eig\n",
        "from PIL import Image\n",
        "from sklearn.neighbors import KNeighborsClassifier\n",
        "from sklearn.metrics import accuracy_score\n",
        "import numpy as np\n",
        "from google.colab import drive\n",
        "drive.mount('/content/drive')\n",
        "\n",
        "#Creating the Data matrix and labels vector\n",
        "def gen_data_matrix_label():\n",
        "  # Generating empty data matrix and labels vector to be filled with images vectors\n",
        "  data_matrix = np.empty([400, 10304], dtype = int)\n",
        "  # y is the labels matrix as requested in the lab pdf\n",
        "  y = np.empty([400, 1], dtype = int)\n",
        "\n",
        "  # dir is the directory that contains all the images\n",
        "  dir = '/content/drive/MyDrive/archive/';\n",
        "  k = 0;\n",
        "  for i in range(40):\n",
        "    subject = 's' + str(i + 1);\n",
        "    for j in range(10):\n",
        "      image_name = '/' + str(j + 1) + '.pgm';\n",
        "      image = Image.open(dir + subject + image_name)\n",
        "      # Converting the image into a numpy array of dimensions: 112 x 92\n",
        "      img_array = np.asarray(image)\n",
        "      # Converting the numpy array into a 1D vector of dimension: 10304 (Row wise)\n",
        "      img_vector = np.reshape(img_array, -1)\n",
        "      # Adding the image vector as a new row in the data matrix\n",
        "      data_matrix[k] = img_vector\n",
        "      # Adding the label of the current image as new row in labels matrix\n",
        "      label = np.array([i + 1])\n",
        "      #y[k] = label\n",
        "      y[k]=1\n",
        "      k += 1\n",
        "  return data_matrix, y\n",
        "\n",
        "# Separating date into training and testing sets, such that odd rows are for testing and even rows are for training\n",
        "# Separate labels accordingly\n",
        "def separate_training_testing(data_matrix, y):\n",
        "  train_data = data_matrix[::2]\n",
        "  test_data = (data_matrix[1:,:])[::2]\n",
        "  train_label = y[::2]\n",
        "  test_label = (y[1:,:])[::2]\n",
        "  return train_data, test_data, train_label, test_label\n",
        "\n",
        "# Principle component analysis\n",
        "# alpha array is an array containing all required values of alpha i.e 0.8, 0.85, 0.9 and 0.95\n",
        "def PCA(data_matrix, alpha_array, n):\n",
        "  mean_vector = np.mean(data_matrix, axis = 0)\n",
        "  z = np.empty([n,10304])\n",
        "  for j in range(10304):\n",
        "    for i in range(n):\n",
        "      z[i,j] = data_matrix[i,j] - mean_vector[j]\n",
        "  cov = (1/n) * np.matmul(np.transpose(z), z)\n",
        "  eigen_values, eigen_vectors = np.linalg.eigh(cov)\n",
        "  idx = eigen_values.argsort()[::-1]\n",
        "  eigen_values = eigen_values[idx]\n",
        "  eigen_vectors = eigen_vectors[:,idx]\n",
        "\n",
        "  total_sum = np.sum(eigen_values)\n",
        "  r = 0\n",
        "  pcs = np.empty([alpha_array.size], dtype = int)\n",
        "\n",
        "  for k in range(alpha_array.size):\n",
        "    curr_sum = 0\n",
        "    for i in range(eigen_values.size):\n",
        "      curr_sum = curr_sum + eigen_values[i]\n",
        "      if((curr_sum / total_sum) >= alpha_array[k]):\n",
        "        r = i + 1\n",
        "        pcs[k] = r\n",
        "        break\n",
        "  return eigen_vectors[:, 0:pcs[0]], eigen_vectors[:, 0:pcs[1]], eigen_vectors[:, 0:pcs[2]], eigen_vectors[:, 0:pcs[3]]\n",
        "\n",
        "def projection(train_data, test_data, u1, u2, u3, u4):\n",
        "  proj1_train_data = np.transpose(np.matmul(np.transpose(u1), np.transpose(train_data)))\n",
        "  proj2_train_data = np.transpose(np.matmul(np.transpose(u2), np.transpose(train_data)))\n",
        "  proj3_train_data = np.transpose(np.matmul(np.transpose(u3), np.transpose(train_data)))\n",
        "  proj4_train_data = np.transpose(np.matmul(np.transpose(u4), np.transpose(train_data)))\n",
        "\n",
        "  proj1_test_data = np.transpose(np.matmul(np.transpose(u1), np.transpose(test_data)))\n",
        "  proj2_test_data = np.transpose(np.matmul(np.transpose(u2), np.transpose(test_data)))\n",
        "  proj3_test_data = np.transpose(np.matmul(np.transpose(u3), np.transpose(test_data)))\n",
        "  proj4_test_data = np.transpose(np.matmul(np.transpose(u4), np.transpose(test_data)))\n",
        "\n",
        "  return proj1_train_data, proj2_train_data, proj3_train_data, proj4_train_data, proj1_test_data, proj2_test_data, proj3_test_data, proj4_test_data\n",
        "\n",
        "def knn(train_data, train_label, test_data, test_label, n):\n",
        "  knn = KNeighborsClassifier(n_neighbors = n)\n",
        "  knn = knn.fit(train_data, train_label)\n",
        "  predicted_label = knn.predict(test_data)\n",
        "  accuracy = accuracy_score(test_label, predicted_label)\n",
        "  return accuracy\n",
        "# ----------------------------------------------------------------------------------------------------------------\n",
        "def multi_n(train_data, train_label, test_data, test_label):\n",
        "  print('n = 1     accuracy = ', knn(train_data, train_label, test_data, test_label, 1), '\\n')\n",
        "  print('n = 3     accuracy = ', knn(train_data, train_label, test_data, test_label, 3), '\\n')\n",
        "  print('n = 5     accuracy = ', knn(train_data, train_label, test_data, test_label, 5), '\\n')\n",
        "  print('n = 7     accuracy = ', knn(train_data, train_label, test_data, test_label, 7), '\\n')\n",
        "\n",
        "\n",
        "def prepare(train , classes, samples):\n",
        "  matrix = []\n",
        "  for i in range (classes):\n",
        "    matrix.append([])\n",
        "  \n",
        "  temp = 0\n",
        "  for i in range (classes):\n",
        "    for j in range (samples):\n",
        "      matrix[i].append(train[temp])\n",
        "      temp = temp+1\n",
        "  LDA_matrix=np.array(matrix)\n",
        "  return LDA_matrix\n",
        "  \n",
        "\n",
        "\n",
        "\n",
        "def LDA(train, test, classes, samples):\n",
        "  LDA_matrix = prepare(train,classes,samples)\n",
        "  mean_victor = np.mean(LDA_matrix,axis = 1)\n",
        "  Over_mean = np.mean(mean_victor, axis = 0)\n",
        "  z = np.empty([classes,samples,10304])\n",
        "  for i in range(classes):\n",
        "    z[i] = LDA_matrix[i]-mean_victor[i]\n",
        "  s = np.empty([10304,10304])\n",
        "  for i in range(classes):\n",
        "    s +=(np.dot(z[i].T,z[i]))\n",
        "  \n",
        "  sb = np.empty([10304,10304])\n",
        "  for i in range(classes):\n",
        "    sb += (samples*(np.dot((mean_victor[i]-Over_mean),(mean_victor[i]-Over_mean).T)))\n",
        "  s_inv = np.linalg.inv(s)\n",
        "  ans = np.matmul(s_inv,sb)\n",
        "  eigen_values, eigen_vectors = np.linalg.eigh(ans)\n",
        "  idx = eigen_values.argsort()[-(classes-1):][::-1]\n",
        "  eigen_vector_sorted = eigen_vectors[idx]\n",
        "  trains = np.dot(train,eigen_vector_sorted.T)\n",
        "  tests = np.dot(test,eigen_vector_sorted.T)\n",
        "  return trains.real,tests.real\n",
        "  \n",
        "def prepare_non(train , samples1, samples2):\n",
        "  matrix1 = []\n",
        "  matrix2 = []\n",
        "  temp = 0\n",
        "  for i in range(samples1):\n",
        "    matrix1.append(train[temp])\n",
        "    temp = temp + 1\n",
        "\n",
        "  for i in range(samples2):\n",
        "    matrix2.append(train[temp])\n",
        "    temp = temp + 1\n",
        "\n",
        "  LDA_matrix1=np.array(matrix1)\n",
        "  LDA_matrix2=np.array(matrix2)\n",
        "  return LDA_matrix1, LDA_matrix2\n",
        "\n",
        "\n",
        "\n",
        "def LDA_non(train, test, samples1, samples2):\n",
        "  LDA_matrix1, LDA_matrix2 = prepare_non(train,samples1,samples2)\n",
        "  m1 = np.mean(LDA_matrix1 , axis = 0)\n",
        "  m2 = np.mean(LDA_matrix2 , axis = 0)\n",
        "  dim = m1.shape[0]\n",
        "  M = np.zeros([dim,1])\n",
        "  for i in range(dim):\n",
        "    M[i][0] = m1[i]-m2[i]\n",
        "\n",
        "  \n",
        "  B = np.matmul(M, M.T)\n",
        "  Z1 = np.zeros([samples1, dim])\n",
        "  Z2 = np.zeros([samples2, dim])\n",
        "  for i in range(samples1):\n",
        "    Z1[i] = LDA_matrix1[i]-m1\n",
        "\n",
        "  for j in range(samples2):\n",
        "    Z2[j] = LDA_matrix2[j]-m2\n",
        "\n",
        "  S1 = np.matmul(Z1.T,Z1)\n",
        "  S2 = np.matmul(Z2.T,Z2)\n",
        "  S = S1+S2\n",
        "  S_in = np.linalg.inv(S)\n",
        "  ans = np.matmul(S_in,B)\n",
        "  eigen_values, eigen_vectors = np.linalg.eigh(ans)\n",
        "  idx = eigen_values.argsort()[--1:][::-1]\n",
        "  eigen_vector_sorted = eigen_vectors[idx]\n",
        "  trains = np.dot(train,eigen_vector_sorted.T)\n",
        "  tests = np.dot(test,eigen_vector_sorted.T)\n",
        "  return trains.real,tests.real\n",
        "\n",
        "\n",
        "  # mean_victor = np.mean(LDA_matrix,axis = 1)\n",
        "  # Over_mean = np.mean(mean_victor, axis = 0)\n",
        "\n",
        "  # z = np.empty([classes,samples,10304])\n",
        "  # for i in range(2):\n",
        "  #   z[i] = LDA_matrix[i]-mean_victor[i]\n",
        "  # s = np.empty([10304,10304])\n",
        "  # for i in range(2):\n",
        "  #   s +=(np.dot(z[i].T,z[i]))\n",
        "  \n",
        "  # sb = np.empty([10304,10304])\n",
        "  # for i in range(2):\n",
        "  #   sb += (samples*(np.dot((mean_victor[i]-Over_mean),(mean_victor[i]-Over_mean).T)))\n",
        "  # s_inv = np.linalg.inv(s)\n",
        "  # ans = np.matmul(s_inv,sb)\n",
        "  # eigen_values, eigen_vectors = np.linalg.eigh(ans)\n",
        "  # idx = eigen_values.argsort()[-(classes-1):][::-1]\n",
        "  # eigen_vector_sorted = eigen_vectors[idx]\n",
        "  # trains = np.dot(train,eigen_vector_sorted.T)\n",
        "  # tests = np.dot(test,eigen_vector_sorted.T)\n",
        "  # return trains.real,tests.real\n",
        "    \n",
        "\n",
        "\n",
        "\n",
        "#data_matrix, y = gen_data_matrix_label()\n",
        "#train_data, test_data, train_label, test_label = separate_training_testing(data_matrix, y)\n",
        "\n",
        "\n",
        "# u1, u2, u3, u4 = PCA(data_matrix, np.array([0.8, 0.85, 0.9, 0.95]), 400)\n",
        "# proj1_train_data, proj2_train_data, proj3_train_data, proj4_train_data, proj1_test_data, proj2_test_data, proj3_test_data, proj4_test_data = projection(train_data, test_data, u1, u2, u3, u4)\n",
        "\n",
        "# print('For PCA: \\n')\n",
        "# print('For alpha = 0.8 \\n')\n",
        "# multi_n(proj1_train_data, np.ravel(train_label), proj1_test_data, np.ravel(test_label))\n",
        "# print('For alpha = 0.85 \\n ')\n",
        "# multi_n(proj2_train_data, np.ravel(train_label), proj2_test_data, np.ravel(test_label))\n",
        "# print('For alpha = 0.9, \\n ') \n",
        "# multi_n(proj3_train_data, np.ravel(train_label), proj3_test_data, np.ravel(test_label))\n",
        "# print('For alpha = 0.95, \\n')\n",
        "# multi_n(proj4_train_data, np.ravel(train_label), proj4_test_data, np.ravel(test_label))\n",
        "\n",
        "\n",
        "\n",
        "#trains, tests = LDA(train_data, test_data, 40 , 5)\n",
        "\n",
        "#print('For LDA: \\n')\n",
        "#multi_n(trains,train_label,tests,test_label)\n",
        "\n",
        "\n",
        "\n"
      ]
    },
    {
      "cell_type": "markdown",
      "metadata": {
        "id": "zrUFFglHSaLE"
      },
      "source": [
        "# **nonfaces dataset, mixed dataset generation**"
      ]
    },
    {
      "cell_type": "code",
      "execution_count": null,
      "metadata": {
        "id": "9hSfh7sVfdQo"
      },
      "outputs": [],
      "source": [
        "#Creating the nonfaces Data matrix and labels vector\n",
        "def gen_nonfaces_data_matrix_label(n):\n",
        "  # Generating empty data matrix and labels vector to be filled with images vectors\n",
        "  nonfaces_data_matrix = np.empty([10*n, 10304], dtype = int)\n",
        "  # y is the labels matrix as requested in the lab pdf\n",
        "  nonfaces_y = np.empty([10*n, 1], dtype = int)\n",
        "\n",
        "  # dir is the directory that contains all the images\n",
        "  dir = '/content/drive/MyDrive/face-nonface/';\n",
        "  k = 0;\n",
        "  for i in range(40,40+n):\n",
        "    subject = 's' + str(i + 1);\n",
        "    for j in range(10):\n",
        "      image_name = '/' + str(j + 1) + '.jpg';\n",
        "      image = Image.open(dir + subject + image_name).convert('L').resize((92,112))\n",
        "      image.save('greyscale.jpg')\n",
        "      # Converting the image into a numpy array of dimensions: 112 x 92\n",
        "      img_array = np.asarray(image)\n",
        "      # Converting the numpy array into a 1D vector of dimension: 10304 (Row wise)\n",
        "      img_vector = np.reshape(img_array, -1)\n",
        "      # Adding the image vector as a new row in the data matrix\n",
        "      nonfaces_data_matrix[k] = img_vector\n",
        "      # Adding the label of the current image as new row in labels matrix\n",
        "      #label = np.array([i + 1])\n",
        "      #nonfaces_y[k] = label\n",
        "      nonfaces_y[k] = -1\n",
        "      k += 1\n",
        "  return nonfaces_data_matrix, nonfaces_y\n",
        "\n",
        "\n",
        "#Creating the mixed Data matrix and labels vector\n",
        "def gen_mixed_data_matrix_label(n):\n",
        "  #n: number of nonfaces folders (max 40, min 0)\n",
        "  #Creating the faces Data matrix and labels vector\n",
        "  data_matrix,y= gen_data_matrix_label()\n",
        "  #Creating the nonfaces Data matrix and labels vector\n",
        "  nonfaces_data_matrix,nonfaces_y= gen_nonfaces_data_matrix_label(n)\n",
        "  #concatinate the faces and nonfaces matrices,vectors\n",
        "  data_matrix = np.vstack((data_matrix,nonfaces_data_matrix))\n",
        "  y = np.vstack((y,nonfaces_y))\n",
        "\n",
        "  return data_matrix, y\n"
      ]
    },
    {
      "cell_type": "markdown",
      "metadata": {
        "id": "IeKbc69lmE97"
      },
      "source": [
        "# **PCA,LDA with the mixed datasets(faces/nonfaces)**"
      ]
    },
    {
      "cell_type": "code",
      "source": [
        "#generate mixed data matrix with 400 nonfaces sample\n",
        "data_matrix, y = gen_mixed_data_matrix_label(40)\n",
        "train_data, test_data, train_label, test_label = separate_training_testing(data_matrix, y)"
      ],
      "metadata": {
        "id": "nBbS6_0bzaG2"
      },
      "execution_count": null,
      "outputs": []
    },
    {
      "cell_type": "code",
      "source": [
        "u1, u2, u3, u4 = PCA(data_matrix, np.array([0.8, 0.85, 0.9, 0.95]), 800)\n",
        "proj1_train_data, proj2_train_data, proj3_train_data, proj4_train_data, proj1_test_data, proj2_test_data, proj3_test_data, proj4_test_data = projection(train_data, test_data, u1, u2, u3, u4)\n",
        "\n",
        "print('For PCA: \\n')\n",
        "print('For alpha = 0.8 \\n')\n",
        "multi_n(proj1_train_data, np.ravel(train_label), proj1_test_data, np.ravel(test_label))\n",
        "print('For alpha = 0.85 \\n ')\n",
        "multi_n(proj2_train_data, np.ravel(train_label), proj2_test_data, np.ravel(test_label))\n",
        "print('For alpha = 0.9, \\n ') \n",
        "multi_n(proj3_train_data, np.ravel(train_label), proj3_test_data, np.ravel(test_label))\n",
        "print('For alpha = 0.95, \\n')\n",
        "multi_n(proj4_train_data, np.ravel(train_label), proj4_test_data, np.ravel(test_label))\n"
      ],
      "metadata": {
        "id": "g7p3gOvLzaY1"
      },
      "execution_count": null,
      "outputs": []
    },
    {
      "cell_type": "code",
      "source": [
        "trains, tests = LDA_non(train_data, test_data,200,200) #200 for faces,200 for nonfaces\n",
        "print('For LDA: \\n')\n",
        "multi_n(trains,train_label,tests,test_label)"
      ],
      "metadata": {
        "id": "DAk4_Xeezams"
      },
      "execution_count": null,
      "outputs": []
    },
    {
      "cell_type": "markdown",
      "source": [
        "# **----------------------------------------------------------------------------------------------**"
      ],
      "metadata": {
        "id": "mm-1-_Md49jH"
      }
    },
    {
      "cell_type": "code",
      "source": [
        "#generate mixed data matrix with 350 nonfaces sample\n",
        "data_matrix, y = gen_mixed_data_matrix_label(35)\n",
        "train_data, test_data, train_label, test_label = separate_training_testing(data_matrix, y)"
      ],
      "metadata": {
        "id": "tQEBwIzf4cv8"
      },
      "execution_count": null,
      "outputs": []
    },
    {
      "cell_type": "code",
      "source": [
        "u1, u2, u3, u4 = PCA(data_matrix, np.array([0.8, 0.85, 0.9, 0.95]), 750)\n",
        "proj1_train_data, proj2_train_data, proj3_train_data, proj4_train_data, proj1_test_data, proj2_test_data, proj3_test_data, proj4_test_data = projection(train_data, test_data, u1, u2, u3, u4)\n",
        "\n",
        "print('For PCA: \\n')\n",
        "print('For alpha = 0.8 \\n')\n",
        "multi_n(proj1_train_data, np.ravel(train_label), proj1_test_data, np.ravel(test_label))\n",
        "print('For alpha = 0.85 \\n ')\n",
        "multi_n(proj2_train_data, np.ravel(train_label), proj2_test_data, np.ravel(test_label))\n",
        "print('For alpha = 0.9, \\n ') \n",
        "multi_n(proj3_train_data, np.ravel(train_label), proj3_test_data, np.ravel(test_label))\n",
        "print('For alpha = 0.95, \\n')\n",
        "multi_n(proj4_train_data, np.ravel(train_label), proj4_test_data, np.ravel(test_label))\n"
      ],
      "metadata": {
        "id": "wIpX-G_D4jsU"
      },
      "execution_count": null,
      "outputs": []
    },
    {
      "cell_type": "code",
      "source": [
        "trains, tests = LDA_non(train_data, test_data, 200,175 )#200 for faces,175 for nonfaces\n",
        "print('For LDA: \\n')\n",
        "multi_n(trains,train_label,tests,test_label)"
      ],
      "metadata": {
        "id": "ss4blEcz4j3z"
      },
      "execution_count": null,
      "outputs": []
    },
    {
      "cell_type": "markdown",
      "source": [
        "# **----------------------------------------------------------------------------------------------**"
      ],
      "metadata": {
        "id": "yiMnz4to4_fc"
      }
    },
    {
      "cell_type": "code",
      "source": [
        "#generate mixed data matrix with 300 nonfaces sample\n",
        "data_matrix, y = gen_mixed_data_matrix_label(30)\n",
        "train_data, test_data, train_label, test_label = separate_training_testing(data_matrix, y)"
      ],
      "metadata": {
        "id": "1HOHQaP-4quO"
      },
      "execution_count": null,
      "outputs": []
    },
    {
      "cell_type": "code",
      "source": [
        "u1, u2, u3, u4 = PCA(data_matrix, np.array([0.8, 0.85, 0.9, 0.95]), 700)\n",
        "proj1_train_data, proj2_train_data, proj3_train_data, proj4_train_data, proj1_test_data, proj2_test_data, proj3_test_data, proj4_test_data = projection(train_data, test_data, u1, u2, u3, u4)\n",
        "\n",
        "print('For PCA: \\n')\n",
        "print('For alpha = 0.8 \\n')\n",
        "multi_n(proj1_train_data, np.ravel(train_label), proj1_test_data, np.ravel(test_label))\n",
        "print('For alpha = 0.85 \\n ')\n",
        "multi_n(proj2_train_data, np.ravel(train_label), proj2_test_data, np.ravel(test_label))\n",
        "print('For alpha = 0.9, \\n ') \n",
        "multi_n(proj3_train_data, np.ravel(train_label), proj3_test_data, np.ravel(test_label))\n",
        "print('For alpha = 0.95, \\n')\n",
        "multi_n(proj4_train_data, np.ravel(train_label), proj4_test_data, np.ravel(test_label))\n"
      ],
      "metadata": {
        "id": "j4og1Z7B4q8b"
      },
      "execution_count": null,
      "outputs": []
    },
    {
      "cell_type": "code",
      "source": [
        "trains, tests = LDA_non(train_data, test_data, 200 ,150 )#200 for faces,150 for nonfaces\n",
        "print('For LDA: \\n')\n",
        "multi_n(trains,train_label,tests,test_label)"
      ],
      "metadata": {
        "id": "9TsDlhHX4rsu"
      },
      "execution_count": null,
      "outputs": []
    },
    {
      "cell_type": "markdown",
      "source": [
        "# **----------------------------------------------------------------------------------------------**"
      ],
      "metadata": {
        "id": "cPem6_Is5BaM"
      }
    },
    {
      "cell_type": "code",
      "source": [
        "#generate mixed data matrix with 250 nonfaces sample\n",
        "data_matrix, y = gen_mixed_data_matrix_label(25)\n",
        "train_data, test_data, train_label, test_label = separate_training_testing(data_matrix, y)"
      ],
      "metadata": {
        "id": "kuXgpFT541Ye"
      },
      "execution_count": null,
      "outputs": []
    },
    {
      "cell_type": "code",
      "source": [
        "u1, u2, u3, u4 = PCA(data_matrix, np.array([0.8, 0.85, 0.9, 0.95]), 650)\n",
        "proj1_train_data, proj2_train_data, proj3_train_data, proj4_train_data, proj1_test_data, proj2_test_data, proj3_test_data, proj4_test_data = projection(train_data, test_data, u1, u2, u3, u4)\n",
        "\n",
        "print('For PCA: \\n')\n",
        "print('For alpha = 0.8 \\n')\n",
        "multi_n(proj1_train_data, np.ravel(train_label), proj1_test_data, np.ravel(test_label))\n",
        "print('For alpha = 0.85 \\n ')\n",
        "multi_n(proj2_train_data, np.ravel(train_label), proj2_test_data, np.ravel(test_label))\n",
        "print('For alpha = 0.9, \\n ') \n",
        "multi_n(proj3_train_data, np.ravel(train_label), proj3_test_data, np.ravel(test_label))\n",
        "print('For alpha = 0.95, \\n')\n",
        "multi_n(proj4_train_data, np.ravel(train_label), proj4_test_data, np.ravel(test_label))\n"
      ],
      "metadata": {
        "id": "Sz_siQaQ41es"
      },
      "execution_count": null,
      "outputs": []
    },
    {
      "cell_type": "code",
      "source": [
        "trains, tests = LDA_non(train_data, test_data, 200 ,125 )#200for faces, 125 for nonfaces\n",
        "print('For LDA: \\n')\n",
        "multi_n(trains,train_label,tests,test_label)"
      ],
      "metadata": {
        "id": "vq_OvwPc41xj"
      },
      "execution_count": null,
      "outputs": []
    },
    {
      "cell_type": "markdown",
      "source": [
        "# **----------------------------------------------------------------------------------------------**"
      ],
      "metadata": {
        "id": "M6AX_lg75EGE"
      }
    },
    {
      "cell_type": "code",
      "source": [
        "#generate mixed data matrix with 200 nonfaces sample\n",
        "data_matrix, y = gen_mixed_data_matrix_label(20)\n",
        "train_data, test_data, train_label, test_label = separate_training_testing(data_matrix, y)"
      ],
      "metadata": {
        "id": "Z4BIq9Kf5DbK"
      },
      "execution_count": null,
      "outputs": []
    },
    {
      "cell_type": "code",
      "source": [
        "u1, u2, u3, u4 = PCA(data_matrix, np.array([0.8, 0.85, 0.9, 0.95]), 600)\n",
        "proj1_train_data, proj2_train_data, proj3_train_data, proj4_train_data, proj1_test_data, proj2_test_data, proj3_test_data, proj4_test_data = projection(train_data, test_data, u1, u2, u3, u4)\n",
        "\n",
        "print('For PCA: \\n')\n",
        "print('For alpha = 0.8 \\n')\n",
        "multi_n(proj1_train_data, np.ravel(train_label), proj1_test_data, np.ravel(test_label))\n",
        "print('For alpha = 0.85 \\n ')\n",
        "multi_n(proj2_train_data, np.ravel(train_label), proj2_test_data, np.ravel(test_label))\n",
        "print('For alpha = 0.9, \\n ') \n",
        "multi_n(proj3_train_data, np.ravel(train_label), proj3_test_data, np.ravel(test_label))\n",
        "print('For alpha = 0.95, \\n')\n",
        "multi_n(proj4_train_data, np.ravel(train_label), proj4_test_data, np.ravel(test_label))\n"
      ],
      "metadata": {
        "id": "jY_LJJXz5GkW"
      },
      "execution_count": null,
      "outputs": []
    },
    {
      "cell_type": "code",
      "source": [
        "trains, tests = LDA_non(train_data, test_data, 200, 100)#200for faces, 100 for nonfaces\n",
        "print('For LDA: \\n')\n",
        "multi_n(trains,train_label,tests,test_label)"
      ],
      "metadata": {
        "id": "0f1URI785HWy"
      },
      "execution_count": null,
      "outputs": []
    },
    {
      "cell_type": "markdown",
      "source": [
        "# **----------------------------------------------------------------------------------------------**"
      ],
      "metadata": {
        "id": "zdrbJjI05Hto"
      }
    },
    {
      "cell_type": "code",
      "source": [
        "#generate mixed data matrix with 150 nonfaces sample\n",
        "data_matrix, y = gen_mixed_data_matrix_label(15)\n",
        "train_data, test_data, train_label, test_label = separate_training_testing(data_matrix, y)"
      ],
      "metadata": {
        "id": "OsyDVlFu5JJ9"
      },
      "execution_count": null,
      "outputs": []
    },
    {
      "cell_type": "code",
      "source": [
        "u1, u2, u3, u4 = PCA(data_matrix, np.array([0.8, 0.85, 0.9, 0.95]), 550)\n",
        "proj1_train_data, proj2_train_data, proj3_train_data, proj4_train_data, proj1_test_data, proj2_test_data, proj3_test_data, proj4_test_data = projection(train_data, test_data, u1, u2, u3, u4)\n",
        "\n",
        "print('For PCA: \\n')\n",
        "print('For alpha = 0.8 \\n')\n",
        "multi_n(proj1_train_data, np.ravel(train_label), proj1_test_data, np.ravel(test_label))\n",
        "print('For alpha = 0.85 \\n ')\n",
        "multi_n(proj2_train_data, np.ravel(train_label), proj2_test_data, np.ravel(test_label))\n",
        "print('For alpha = 0.9, \\n ') \n",
        "multi_n(proj3_train_data, np.ravel(train_label), proj3_test_data, np.ravel(test_label))\n",
        "print('For alpha = 0.95, \\n')\n",
        "multi_n(proj4_train_data, np.ravel(train_label), proj4_test_data, np.ravel(test_label))\n"
      ],
      "metadata": {
        "id": "X7WsjdtF5JXF"
      },
      "execution_count": null,
      "outputs": []
    },
    {
      "cell_type": "code",
      "source": [
        "trains, tests = LDA_non(train_data, test_data, 200 , 75)#200for faces, 75 for nonfaces\n",
        "print('For LDA: \\n')\n",
        "multi_n(trains,train_label,tests,test_label)"
      ],
      "metadata": {
        "id": "AjcPEpEi5JkJ"
      },
      "execution_count": null,
      "outputs": []
    },
    {
      "cell_type": "markdown",
      "source": [
        "# **----------------------------------------------------------------------------------------------**"
      ],
      "metadata": {
        "id": "f5EJAHIR5Jz7"
      }
    },
    {
      "cell_type": "code",
      "source": [
        "#generate mixed data matrix with 100 nonfaces sample\n",
        "data_matrix, y = gen_mixed_data_matrix_label(10)\n",
        "train_data, test_data, train_label, test_label = separate_training_testing(data_matrix, y)"
      ],
      "metadata": {
        "id": "ZsKEe5dY5KuC"
      },
      "execution_count": null,
      "outputs": []
    },
    {
      "cell_type": "code",
      "source": [
        "u1, u2, u3, u4 = PCA(data_matrix, np.array([0.8, 0.85, 0.9, 0.95]), 500)\n",
        "proj1_train_data, proj2_train_data, proj3_train_data, proj4_train_data, proj1_test_data, proj2_test_data, proj3_test_data, proj4_test_data = projection(train_data, test_data, u1, u2, u3, u4)\n",
        "\n",
        "print('For PCA: \\n')\n",
        "print('For alpha = 0.8 \\n')\n",
        "multi_n(proj1_train_data, np.ravel(train_label), proj1_test_data, np.ravel(test_label))\n",
        "print('For alpha = 0.85 \\n ')\n",
        "multi_n(proj2_train_data, np.ravel(train_label), proj2_test_data, np.ravel(test_label))\n",
        "print('For alpha = 0.9, \\n ') \n",
        "multi_n(proj3_train_data, np.ravel(train_label), proj3_test_data, np.ravel(test_label))\n",
        "print('For alpha = 0.95, \\n')\n",
        "multi_n(proj4_train_data, np.ravel(train_label), proj4_test_data, np.ravel(test_label))\n"
      ],
      "metadata": {
        "id": "OZfVRqWC5K7a"
      },
      "execution_count": null,
      "outputs": []
    },
    {
      "cell_type": "code",
      "source": [
        "trains, tests = LDA_non(train_data, test_data, 200 ,50 )#200for faces, 50 for nonfaces\n",
        "print('For LDA: \\n')\n",
        "multi_n(trains,train_label,tests,test_label)"
      ],
      "metadata": {
        "id": "iFlmq1G05LEO"
      },
      "execution_count": null,
      "outputs": []
    },
    {
      "cell_type": "markdown",
      "source": [
        "# **----------------------------------------------------------------------------------------------**"
      ],
      "metadata": {
        "id": "A0K0shQN59SI"
      }
    },
    {
      "cell_type": "code",
      "source": [
        "#generate mixed data matrix with 50 nonfaces sample\n",
        "data_matrix, y = gen_mixed_data_matrix_label(5)\n",
        "train_data, test_data, train_label, test_label = separate_training_testing(data_matrix, y)"
      ],
      "metadata": {
        "id": "3O_F4Oqh59k5"
      },
      "execution_count": null,
      "outputs": []
    },
    {
      "cell_type": "code",
      "source": [
        "u1, u2, u3, u4 = PCA(data_matrix, np.array([0.8, 0.85, 0.9, 0.95]), 450)\n",
        "proj1_train_data, proj2_train_data, proj3_train_data, proj4_train_data, proj1_test_data, proj2_test_data, proj3_test_data, proj4_test_data = projection(train_data, test_data, u1, u2, u3, u4)\n",
        "\n",
        "print('For PCA: \\n')\n",
        "print('For alpha = 0.8 \\n')\n",
        "multi_n(proj1_train_data, np.ravel(train_label), proj1_test_data, np.ravel(test_label))\n",
        "print('For alpha = 0.85 \\n ')\n",
        "multi_n(proj2_train_data, np.ravel(train_label), proj2_test_data, np.ravel(test_label))\n",
        "print('For alpha = 0.9, \\n ') \n",
        "multi_n(proj3_train_data, np.ravel(train_label), proj3_test_data, np.ravel(test_label))\n",
        "print('For alpha = 0.95, \\n')\n",
        "multi_n(proj4_train_data, np.ravel(train_label), proj4_test_data, np.ravel(test_label))\n"
      ],
      "metadata": {
        "id": "Pj5v64o459t-"
      },
      "execution_count": null,
      "outputs": []
    },
    {
      "cell_type": "code",
      "source": [
        "trains, tests = LDA_non(train_data, test_data, 200 , 25)#200for faces, 25 for nonfaces\n",
        "print('For LDA: \\n')\n",
        "multi_n(trains,train_label,tests,test_label)"
      ],
      "metadata": {
        "id": "i3xQ6pAA5-FR"
      },
      "execution_count": null,
      "outputs": []
    },
    {
      "cell_type": "markdown",
      "source": [
        "# **plots**"
      ],
      "metadata": {
        "id": "f_Vq0NeBGcK2"
      }
    },
    {
      "cell_type": "code",
      "source": [
        "#n=1:\n",
        "x=[400,350,300,250,200,150,100,50,0]\n",
        "#(alpla=0.8)\n",
        "y1=[0.9425 ,0.9386666666666666 , 0.9514285714285714 ,0.9538461538461539 , 0.9566666666666667, 0.9672727272727273,0.964 , 0.9733333333333334 ,1]\n",
        "#(alpla=0.85)\n",
        "y2=[0.935,0.9253333333333333,0.9485714285714286 , 0.9446153846153846, 0.9466666666666667 , 0.96,  0.944 , 0.9644444444444444 ,1]\n",
        "#(alpla=0.9)\n",
        "y3=[0.9175, 0.9173333333333333 ,0.9314285714285714 , 0.9446153846153846, 0.94 ,0.9563636363636364 ,0.932 ,0.9511111111111111 ,1] \n",
        "#(alpla=0.95)\n",
        "y4=[0.9025,0.9013333333333333 , 0.9228571428571428 ,0.9353846153846154,  0.93 , 0.9418181818181818 , 0.924, 0.9422222222222222 ,1]"
      ],
      "metadata": {
        "id": "raJyEmUYGeMB"
      },
      "execution_count": null,
      "outputs": []
    },
    {
      "cell_type": "code",
      "source": [
        "import matplotlib.pyplot as plt\n",
        "plt.plot(x, y1, 'r--', x, y2, 'bs', x, y3, 'g^',x,y4)\n",
        "plt.ylabel('PCA accuracy for n=1')\n",
        "plt.xlabel('number of nonfaces samples')\n",
        "#plt.axis([0, 400, 0, 1])\n",
        "plt.show()"
      ],
      "metadata": {
        "id": "vlU3NeQgGlE-"
      },
      "execution_count": null,
      "outputs": []
    },
    {
      "cell_type": "code",
      "source": [
        "#n=3:\n",
        "x=[400,350,300,250,200,150,100,50,0]\n",
        "#(alpla=0.8)\n",
        "y1=[ 0.9175 ,0.9093333333333333 ,0.9314285714285714,0.9323076923076923 ,0.9233333333333333,0.9490909090909091 ,0.94, 0.9555555555555556 ,1]\n",
        "#(alpla=0.85)\n",
        "y2=[0.91, 0.904 ,0.9285714285714286 ,0.9261538461538461 , 0.92 ,0.9454545454545454 ,0.936 ,0.9466666666666667 ,1]\n",
        "#(alpla=0.9)\n",
        "y3=[0.885 ,0.8853333333333333 ,0.9057142857142857, 0.9138461538461539, 0.91, 0.9345454545454546,  0.92, 0.9422222222222222 ,1]\n",
        "#(alpla=0.95)\n",
        "y4=[ 0.86 ,0.8613333333333333, 0.8885714285714286,0.9015384615384615 ,0.8966666666666666,0.9236363636363636,  0.92,0.9422222222222222 ,1]"
      ],
      "metadata": {
        "id": "cdAs_EWOGnuz"
      },
      "execution_count": null,
      "outputs": []
    },
    {
      "cell_type": "code",
      "source": [
        "import matplotlib.pyplot as plt\n",
        "plt.plot(x, y1, 'r--', x, y2, 'bs', x, y3, 'g^',x,y4)\n",
        "plt.ylabel('PCA accuracy for n=3')\n",
        "plt.xlabel('number of nonfaces samples')\n",
        "#plt.axis([0, 400, 0, 1])\n",
        "plt.show()"
      ],
      "metadata": {
        "id": "AochTpAVGq_G"
      },
      "execution_count": null,
      "outputs": []
    },
    {
      "cell_type": "code",
      "source": [
        "#n=5:\n",
        "x=[400,350,300,250,200,150,100,50,0]\n",
        "#(alpla=0.8)\n",
        "y1=[0.91, 0.9066666666666666,  0.9228571428571428 ,0.9230769230769231 ,0.91 , 0.9381818181818182,  0.932,0.9422222222222222,1]\n",
        "#(alpla=0.85)\n",
        "y2=[0.895, 0.8933333333333333, 0.9142857142857143 , 0.9138461538461539, 0.9066666666666666,  0.9345454545454546, 0.916,0.9466666666666667 ,1]\n",
        "#(alpla=0.9)\n",
        "y3=[0.87,0.872 ,0.8971428571428571, 0.9046153846153846, 0.9 ,0.9236363636363636,0.908 ,0.9422222222222222,1]\n",
        "#(alpla=0.95)\n",
        "y4=[0.845, 0.8506666666666667 ,0.88 ,0.8923076923076924, 0.8866666666666667, 0.9163636363636364, 0.904, 0.9422222222222222,1]"
      ],
      "metadata": {
        "id": "uf-vh2jKGtES"
      },
      "execution_count": null,
      "outputs": []
    },
    {
      "cell_type": "code",
      "source": [
        "import matplotlib.pyplot as plt\n",
        "plt.plot(x, y1, 'r--', x, y2, 'bs', x, y3, 'g^',x,y4)\n",
        "plt.ylabel('PCA accuracy for n=5')\n",
        "plt.xlabel('number of nonfaces samples')\n",
        "#plt.axis([0, 400, 0, 1])\n",
        "plt.show()"
      ],
      "metadata": {
        "id": "Qm450LFUGwVI"
      },
      "execution_count": null,
      "outputs": []
    },
    {
      "cell_type": "code",
      "source": [
        "#n=7:\n",
        "x=[400,350,300,250,200,150,100,50,0]\n",
        "#(alpla=0.8)\n",
        "y1=[0.9025,  0.896 ,0.92, 0.9138461538461539 ,0.91 ,0.9272727272727272, 0.916,0.9377777777777778 ,1]\n",
        "#(alpla=0.85)\n",
        "y2=[0.88 ,0.8746666666666667, 0.9028571428571428 ,0.9076923076923077, 0.8966666666666666,0.9236363636363636, 0.908, 0.9377777777777778 ,1]\n",
        "#(alpla=0.9)\n",
        "y3=[0.86 , 0.864 , 0.8914285714285715 ,0.8953846153846153 ,0.8866666666666667 , 0.9127272727272727 , 0.9 ,0.9377777777777778,1]\n",
        "#(alpla=0.95)\n",
        "y4=[0.835,0.848,0.8714285714285714 , 0.8861538461538462 , 0.8733333333333333 ,0.9090909090909091,0.896,   0.9377777777777778,1]"
      ],
      "metadata": {
        "id": "Pg8ExXFuG0rB"
      },
      "execution_count": null,
      "outputs": []
    },
    {
      "cell_type": "code",
      "source": [
        "import matplotlib.pyplot as plt\n",
        "\n",
        "plt.plot(x, y1, 'r--', x, y2, 'bs', x, y3, 'g^',x,y4)\n",
        "plt.ylabel('PCA accuracy for n=7')\n",
        "plt.xlabel('number of nonfaces samples')\n",
        "#plt.axis([0, 400, 0, 1])\n",
        "plt.show()"
      ],
      "metadata": {
        "id": "LxKkUARsG4D9"
      },
      "execution_count": null,
      "outputs": []
    },
    {
      "cell_type": "code",
      "source": [
        "#LDA results\n",
        "#n=1:\n",
        "x=[400,350,300,250,200,150,100,50,0]\n",
        "y1=[0.8875,0.888,0.9171428571428571, 0.9261538461538461,0.9233333333333333 ,0.9381818181818182 , 0.924 , 0.9466666666666667 ,1]\n",
        "\n",
        "#n=3:\n",
        "x=[400,350,300,250,200,150,100,50,0]\n",
        "y2=[ 0.8525,0.8586666666666667 ,0.8828571428571429 ,0.8984615384615384 ,0.8933333333333333,0.92 ,0.92,0.9422222222222222,1]\n",
        "\n",
        "#n=5:\n",
        "x=[400,350,300,250,200,150,100,50,0]\n",
        "y3=[0.83 ,0.8373333333333334 ,0.8657142857142858 , 0.8861538461538462 , 0.88 ,0.9127272727272727 ,  0.904 , 0.9422222222222222 ,1]\n",
        "\n",
        "#n=7:\n",
        "x=[400,350,300,250,200,150,100,50,0]\n",
        "y4=[0.8225,0.8346666666666667 ,0.8628571428571429,0.88 ,0.8733333333333333 ,0.9090909090909091,0.896,0.9377777777777778 ,1]\n"
      ],
      "metadata": {
        "id": "VO-GuMsZG4t5"
      },
      "execution_count": null,
      "outputs": []
    },
    {
      "cell_type": "code",
      "source": [
        "import matplotlib.pyplot as plt\n",
        "plt.plot(x, y1, 'r--', x, y2, 'bs', x, y3, 'g^',x,y4)\n",
        "plt.ylabel('LDA accuracy for n=1,3,5,7')\n",
        "plt.xlabel('number of nonfaces samples')\n",
        "#plt.title('bbbbbbbbbbb')#plt.axis([0, 400, 0, 1])\n",
        "plt.show()"
      ],
      "metadata": {
        "id": "anh5306iG_mx"
      },
      "execution_count": null,
      "outputs": []
    },
    {
      "cell_type": "markdown",
      "metadata": {
        "id": "GqvYmphvSvx2"
      },
      "source": [
        "# **70:30 separation ratio**"
      ]
    },
    {
      "cell_type": "code",
      "execution_count": null,
      "metadata": {
        "id": "ouqObVIsS2rY"
      },
      "outputs": [],
      "source": [
        "def bonus_separation(data_matrix, y):\n",
        "  bonus_train_data = np.empty([280, 10304], dtype = int)\n",
        "  bonus_test_data = np.empty([120, 10304], dtype = int)\n",
        "  bonus_train_label = np.empty([280, 1], dtype = int)\n",
        "  bonus_test_label = np.empty([120, 1], dtype = int)\n",
        "  \n",
        "  a = 0\n",
        "  b = 0\n",
        "  for i in range(40):\n",
        "    for j in range(10):\n",
        "      if(j < 7):\n",
        "        bonus_train_data[a] = data_matrix[10 * i + j]\n",
        "        bonus_train_label[a] = y[10 * i + j]\n",
        "        a += 1\n",
        "      else:\n",
        "        bonus_test_data[b] = data_matrix[10 * i + j]\n",
        "        bonus_test_label[b] = y[10 * i + j]\n",
        "        b += 1\n",
        "      \n",
        "  print(bonus_train_data.shape)\n",
        "  print(bonus_test_data.shape)\n",
        "  print(bonus_train_label.shape)\n",
        "  print(bonus_test_label.shape)\n",
        "  return bonus_train_data, bonus_test_data, bonus_train_label, bonus_test_label"
      ]
    },
    {
      "cell_type": "code",
      "execution_count": null,
      "metadata": {
        "colab": {
          "base_uri": "https://localhost:8080/"
        },
        "id": "_CZuO7oIS6ER",
        "outputId": "f82f828b-e8a5-4bc4-ab6c-4f6cdc29da78"
      },
      "outputs": [
        {
          "output_type": "stream",
          "name": "stdout",
          "text": [
            "(280, 10304)\n",
            "(120, 10304)\n",
            "(280, 1)\n",
            "(120, 1)\n"
          ]
        }
      ],
      "source": [
        "data_matrix, y = gen_data_matrix_label()\n",
        "bouns_train_data, bouns_test_data, bouns_train_label, bouns_test_label = bonus_separation(data_matrix, y)"
      ]
    },
    {
      "cell_type": "code",
      "execution_count": null,
      "metadata": {
        "id": "lGjRtcgKS8gd",
        "colab": {
          "base_uri": "https://localhost:8080/"
        },
        "outputId": "f0655362-a302-456d-957b-8fc2302d119f"
      },
      "outputs": [
        {
          "output_type": "stream",
          "name": "stdout",
          "text": [
            "For PCA with 70/30 separation: \n",
            "\n",
            "For alpha = 0.8, accuracy =  0.9583333333333334\n",
            "For alpha = 0.85, accuracy =  0.9666666666666667\n",
            "For alpha = 0.9, accuracy =  0.9583333333333334\n",
            "For alpha = 0.95, accuracy =  0.95\n"
          ]
        }
      ],
      "source": [
        "u1, u2, u3, u4 = PCA(data_matrix, np.array([0.8, 0.85, 0.9, 0.95]),400)\n",
        "proj1_train_data, proj2_train_data, proj3_train_data, proj4_train_data, proj1_test_data, proj2_test_data, proj3_test_data, proj4_test_data = projection(bouns_train_data, bouns_test_data, u1, u2, u3, u4)\n",
        "\n",
        "print('For PCA with 70/30 separation: \\n')\n",
        "print('For alpha = 0.8, accuracy = ', knn(proj1_train_data, np.ravel(bouns_train_label), proj1_test_data, np.ravel(bouns_test_label),1))\n",
        "print('For alpha = 0.85, accuracy = ', knn(proj2_train_data, np.ravel(bouns_train_label), proj2_test_data, np.ravel(bouns_test_label),1))\n",
        "print('For alpha = 0.9, accuracy = ', knn(proj3_train_data, np.ravel(bouns_train_label), proj3_test_data, np.ravel(bouns_test_label),1))\n",
        "print('For alpha = 0.95, accuracy = ', knn(proj4_train_data, np.ravel(bouns_train_label), proj4_test_data, np.ravel(bouns_test_label),1))"
      ]
    },
    {
      "cell_type": "code",
      "execution_count": null,
      "metadata": {
        "id": "CQMlioaKtmSo",
        "colab": {
          "base_uri": "https://localhost:8080/"
        },
        "outputId": "06aff847-340e-4030-f600-282abba25f1f"
      },
      "outputs": [
        {
          "output_type": "stream",
          "name": "stdout",
          "text": [
            "For LDA: \n",
            "\n",
            "n = 1     accuracy =  0.7583333333333333 \n",
            "\n",
            "n = 3     accuracy =  0.7083333333333334 \n",
            "\n",
            "n = 5     accuracy =  0.6416666666666667 \n",
            "\n",
            "n = 7     accuracy =  0.625 \n",
            "\n"
          ]
        },
        {
          "output_type": "stream",
          "name": "stderr",
          "text": [
            "/usr/local/lib/python3.7/dist-packages/sklearn/neighbors/_classification.py:198: DataConversionWarning: A column-vector y was passed when a 1d array was expected. Please change the shape of y to (n_samples,), for example using ravel().\n",
            "  return self._fit(X, y)\n",
            "/usr/local/lib/python3.7/dist-packages/sklearn/neighbors/_classification.py:198: DataConversionWarning: A column-vector y was passed when a 1d array was expected. Please change the shape of y to (n_samples,), for example using ravel().\n",
            "  return self._fit(X, y)\n",
            "/usr/local/lib/python3.7/dist-packages/sklearn/neighbors/_classification.py:198: DataConversionWarning: A column-vector y was passed when a 1d array was expected. Please change the shape of y to (n_samples,), for example using ravel().\n",
            "  return self._fit(X, y)\n",
            "/usr/local/lib/python3.7/dist-packages/sklearn/neighbors/_classification.py:198: DataConversionWarning: A column-vector y was passed when a 1d array was expected. Please change the shape of y to (n_samples,), for example using ravel().\n",
            "  return self._fit(X, y)\n"
          ]
        }
      ],
      "source": [
        "trains, tests = LDA(bouns_train_data, bouns_test_data, 40 , 7)\n",
        "print('For LDA: \\n')\n",
        "multi_n(trains,bouns_train_label,tests,bouns_test_label)\n"
      ]
    }
  ],
  "metadata": {
    "colab": {
      "collapsed_sections": [],
      "name": "PR_Lab1.ipynb",
      "provenance": [],
      "include_colab_link": true
    },
    "kernelspec": {
      "display_name": "Python 3",
      "name": "python3"
    },
    "language_info": {
      "name": "python"
    }
  },
  "nbformat": 4,
  "nbformat_minor": 0
}